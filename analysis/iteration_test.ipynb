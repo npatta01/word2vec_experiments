{
 "cells": [
  {
   "cell_type": "code",
   "execution_count": 28,
   "metadata": {
    "collapsed": false
   },
   "outputs": [
    {
     "name": "stdout",
     "output_type": "stream",
     "text": [
      "time: 2.38 ms\n"
     ]
    }
   ],
   "source": [
    "import math\n",
    "from gensim.corpora.mmcorpus import MmCorpus\n",
    "import gensim\n",
    "import helper\n",
    "from model import BibleDatabase, BibleIterMode\n",
    "import corpora"
   ]
  },
  {
   "cell_type": "code",
   "execution_count": 13,
   "metadata": {
    "collapsed": false
   },
   "outputs": [
    {
     "name": "stdout",
     "output_type": "stream",
     "text": [
      "The autoreload extension is already loaded. To reload it, use:\n",
      "  %reload_ext autoreload\n",
      "time: 144 ms\n"
     ]
    }
   ],
   "source": [
    "%load_ext autoreload\n",
    "%autoreload 2"
   ]
  },
  {
   "cell_type": "code",
   "execution_count": 14,
   "metadata": {
    "collapsed": false
   },
   "outputs": [
    {
     "name": "stdout",
     "output_type": "stream",
     "text": [
      "Installed autotime.py. To use it, type:\n",
      "  %load_ext autotime\n",
      "The autotime extension is already loaded. To reload it, use:\n",
      "  %reload_ext autotime\n",
      "time: 389 ms\n"
     ]
    }
   ],
   "source": [
    "%install_ext https://raw.github.com/cpcloud/ipython-autotime/master/autotime.py\n",
    "%load_ext autotime"
   ]
  },
  {
   "cell_type": "code",
   "execution_count": 15,
   "metadata": {
    "collapsed": false
   },
   "outputs": [
    {
     "name": "stdout",
     "output_type": "stream",
     "text": [
      "\u001b[0m\u001b[01;34manalysis\u001b[0m/           Gruntfile.js   package.json      runserver.py\n",
      "bible_analysis.iml  __init__.py    Procfile          runserver.pyc\n",
      "bower.json          \u001b[01;34mnltk_data\u001b[0m/     Readme.md         tsd.json\n",
      "\u001b[01;34mdata\u001b[0m/               \u001b[01;34mnode_modules\u001b[0m/  requirements.txt  \u001b[01;34mvisualizations\u001b[0m/\n",
      "time: 116 ms\n"
     ]
    },
    {
     "name": "stderr",
     "output_type": "stream",
     "text": [
      "[autoreload of autotime failed: Traceback (most recent call last):\n",
      "  File \"/home/npatta01/.virtualenvs/pyspark/local/lib/python2.7/site-packages/IPython/extensions/autoreload.py\", line 247, in check\n",
      "    superreload(m, reload, self.old_objects)\n",
      "ImportError: No module named autotime\n",
      "]\n"
     ]
    }
   ],
   "source": [
    "ls .."
   ]
  },
  {
   "cell_type": "code",
   "execution_count": 16,
   "metadata": {
    "collapsed": false
   },
   "outputs": [
    {
     "data": {
      "text/plain": [
       "u'/home/npatta01/projects/bible_analysis/analysis'"
      ]
     },
     "execution_count": 16,
     "metadata": {},
     "output_type": "execute_result"
    },
    {
     "name": "stdout",
     "output_type": "stream",
     "text": [
      "time: 2.7 ms\n"
     ]
    }
   ],
   "source": [
    "pwd"
   ]
  },
  {
   "cell_type": "code",
   "execution_count": 17,
   "metadata": {
    "collapsed": false
   },
   "outputs": [
    {
     "name": "stdout",
     "output_type": "stream",
     "text": [
      "time: 84.7 ms\n"
     ]
    }
   ],
   "source": [
    "db_path='../data/bible.db'"
   ]
  },
  {
   "cell_type": "markdown",
   "metadata": {
    "collapsed": true
   },
   "source": [
    "# Bible Database"
   ]
  },
  {
   "cell_type": "code",
   "execution_count": 18,
   "metadata": {
    "collapsed": false
   },
   "outputs": [
    {
     "name": "stdout",
     "output_type": "stream",
     "text": [
      "time: 70.2 ms\n"
     ]
    }
   ],
   "source": [
    "bb= BibleDatabase(db_path)"
   ]
  },
  {
   "cell_type": "markdown",
   "metadata": {},
   "source": [
    "## Get single verse"
   ]
  },
  {
   "cell_type": "code",
   "execution_count": 19,
   "metadata": {
    "collapsed": false
   },
   "outputs": [
    {
     "data": {
      "text/plain": [
       "[{'verse_id': 1, 'chapter_id': 1, 'book_id': 1, 'text': u'In the beginning God created the heavens and the earth.'}]"
      ]
     },
     "execution_count": 19,
     "metadata": {},
     "output_type": "execute_result"
    },
    {
     "name": "stdout",
     "output_type": "stream",
     "text": [
      "time: 82.4 ms\n"
     ]
    }
   ],
   "source": [
    "verse_start='01001001'\n",
    "v=bb.get_bible_verses(verse_start)\n",
    "v\n"
   ]
  },
  {
   "cell_type": "markdown",
   "metadata": {},
   "source": [
    "## Get end verse"
   ]
  },
  {
   "cell_type": "code",
   "execution_count": 20,
   "metadata": {
    "collapsed": false
   },
   "outputs": [
    {
     "data": {
      "text/plain": [
       "[{'verse_id': 1, 'chapter_id': 1, 'book_id': 1, 'text': u'In the beginning God created the heavens and the earth.'},\n",
       " {'verse_id': 2, 'chapter_id': 1, 'book_id': 1, 'text': u'And the earth was waste and void; and darkness was upon the face of the deep: and the Spirit of God moved upon the face of the waters.'},\n",
       " {'verse_id': 3, 'chapter_id': 1, 'book_id': 1, 'text': u'And God said, Let there be light: and there was light.'},\n",
       " {'verse_id': 4, 'chapter_id': 1, 'book_id': 1, 'text': u'And God saw the light, that it was good: and God divided the light from the darkness.'}]"
      ]
     },
     "execution_count": 20,
     "metadata": {},
     "output_type": "execute_result"
    },
    {
     "name": "stdout",
     "output_type": "stream",
     "text": [
      "time: 88.2 ms\n"
     ]
    }
   ],
   "source": [
    "verse_start='01001001'\n",
    "verse_end='01001004'\n",
    "v=bb.get_bible_verses(verse_start,verse_end)\n",
    "v\n"
   ]
  },
  {
   "cell_type": "markdown",
   "metadata": {},
   "source": [
    "# Bible Corpora"
   ]
  },
  {
   "cell_type": "code",
   "execution_count": 21,
   "metadata": {
    "collapsed": false
   },
   "outputs": [
    {
     "name": "stdout",
     "output_type": "stream",
     "text": [
      "time: 53 ms\n"
     ]
    }
   ],
   "source": [
    "options = {\n",
    "    \"stem\":False\n",
    "    ,\"stop_words\":\"../data/stopwords.txt\"\n",
    "    ,\"filter_parts_of_speech\":True\n",
    "    ,\"min_word_length\":2\n",
    "    ,\"lower_case\":True\n",
    "    \n",
    "}\n",
    "ag_preprocesser = helper.Normalizer(**options)\n"
   ]
  },
  {
   "cell_type": "code",
   "execution_count": 22,
   "metadata": {
    "collapsed": false
   },
   "outputs": [
    {
     "name": "stdout",
     "output_type": "stream",
     "text": [
      "--- Completed 31104 BibleIterMode.VERSEs \n",
      "time: 18.7 s\n"
     ]
    }
   ],
   "source": [
    "bible_verse_iter_mode = corpora.BibleSqliteCorpus(db_path,normalizer=ag_preprocesser,iter_mode=BibleIterMode.VERSE)"
   ]
  },
  {
   "cell_type": "code",
   "execution_count": 23,
   "metadata": {
    "collapsed": false
   },
   "outputs": [
    {
     "name": "stdout",
     "output_type": "stream",
     "text": [
      "--- Completed 1185 BibleIterMode.CHAPTERs \n",
      "time: 16.2 s\n"
     ]
    }
   ],
   "source": [
    "bible_chapter_iter_mode = corpora.BibleSqliteCorpus(db_path,normalizer=ag_preprocesser,iter_mode=BibleIterMode.CHAPTER)"
   ]
  },
  {
   "cell_type": "code",
   "execution_count": 24,
   "metadata": {
    "collapsed": false
   },
   "outputs": [
    {
     "name": "stdout",
     "output_type": "stream",
     "text": [
      "--- Completed 67 BibleIterMode.BOOKs \n",
      "time: 15.8 s\n"
     ]
    }
   ],
   "source": [
    "bible_book_iter_mode = corpora.BibleSqliteCorpus(db_path,normalizer=ag_preprocesser,iter_mode=BibleIterMode.BOOK)"
   ]
  }
 ],
 "metadata": {
  "kernelspec": {
   "display_name": "Python 2",
   "language": "python",
   "name": "python2"
  },
  "language_info": {
   "codemirror_mode": {
    "name": "ipython",
    "version": 2
   },
   "file_extension": ".py",
   "mimetype": "text/x-python",
   "name": "python",
   "nbconvert_exporter": "python",
   "pygments_lexer": "ipython2",
   "version": "2.7.9"
  }
 },
 "nbformat": 4,
 "nbformat_minor": 0
}
