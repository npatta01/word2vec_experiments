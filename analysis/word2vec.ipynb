{
 "cells": [
  {
   "cell_type": "code",
   "execution_count": 29,
   "metadata": {
    "collapsed": false
   },
   "outputs": [
    {
     "name": "stdout",
     "output_type": "stream",
     "text": [
      "time: 2.67 ms\n"
     ]
    }
   ],
   "source": [
    "import gensim, logging\n",
    "from model import BibleDatabase, BibleIterMode\n",
    "from gensim.models import Word2Vec\n",
    "import helper\n",
    "import corpora"
   ]
  },
  {
   "cell_type": "code",
   "execution_count": 12,
   "metadata": {
    "collapsed": false
   },
   "outputs": [
    {
     "name": "stdout",
     "output_type": "stream",
     "text": [
      "The autoreload extension is already loaded. To reload it, use:\n",
      "  %reload_ext autoreload\n",
      "time: 1.65 ms\n"
     ]
    }
   ],
   "source": [
    "%load_ext autoreload\n",
    "%autoreload 2"
   ]
  },
  {
   "cell_type": "code",
   "execution_count": 18,
   "metadata": {
    "collapsed": false
   },
   "outputs": [
    {
     "name": "stdout",
     "output_type": "stream",
     "text": [
      "Installed autotime.py. To use it, type:\n",
      "  %load_ext autotime\n"
     ]
    },
    {
     "name": "stderr",
     "output_type": "stream",
     "text": [
      "[autoreload of autotime failed: Traceback (most recent call last):\n",
      "  File \"/home/npatta01/.virtualenvs/pyspark/local/lib/python2.7/site-packages/IPython/extensions/autoreload.py\", line 247, in check\n",
      "    superreload(m, reload, self.old_objects)\n",
      "ImportError: No module named autotime\n",
      "]\n"
     ]
    }
   ],
   "source": [
    "%install_ext https://raw.github.com/cpcloud/ipython-autotime/master/autotime.py\n",
    "#%load_ext autotime\n",
    "%reload_ext autotime"
   ]
  },
  {
   "cell_type": "code",
   "execution_count": 19,
   "metadata": {
    "collapsed": false
   },
   "outputs": [
    {
     "name": "stdout",
     "output_type": "stream",
     "text": [
      "time: 1.34 ms\n"
     ]
    },
    {
     "name": "stderr",
     "output_type": "stream",
     "text": [
      "[autoreload of autotime failed: Traceback (most recent call last):\n",
      "  File \"/home/npatta01/.virtualenvs/pyspark/local/lib/python2.7/site-packages/IPython/extensions/autoreload.py\", line 247, in check\n",
      "    superreload(m, reload, self.old_objects)\n",
      "ImportError: No module named autotime\n",
      "]\n"
     ]
    }
   ],
   "source": [
    "logging.basicConfig(format='%(asctime)s : %(levelname)s : %(message)s', level=logging.INFO)"
   ]
  },
  {
   "cell_type": "markdown",
   "metadata": {},
   "source": [
    "# Load Corpora"
   ]
  },
  {
   "cell_type": "code",
   "execution_count": 64,
   "metadata": {
    "collapsed": false
   },
   "outputs": [
    {
     "name": "stdout",
     "output_type": "stream",
     "text": [
      "time: 1.23 ms\n"
     ]
    }
   ],
   "source": [
    "db_path='../data/bible.db'"
   ]
  },
  {
   "cell_type": "code",
   "execution_count": 171,
   "metadata": {
    "collapsed": false
   },
   "outputs": [
    {
     "name": "stdout",
     "output_type": "stream",
     "text": [
      "time: 2.82 ms\n"
     ]
    }
   ],
   "source": [
    "options = {\n",
    "    \"stem\":True\n",
    "    ,\"stop_words\":\"../data/stopwords.txt\"\n",
    "    ,\"filter_parts_of_speech\":True\n",
    "    ,\"min_word_length\":2\n",
    "    ,\"lower_case\":False\n",
    "    \n",
    "}\n",
    "ag_preprocesser = helper.Normalizer(**options)\n"
   ]
  },
  {
   "cell_type": "code",
   "execution_count": 173,
   "metadata": {
    "collapsed": false
   },
   "outputs": [
    {
     "name": "stdout",
     "output_type": "stream",
     "text": [
      "time: 1.42 ms\n"
     ]
    }
   ],
   "source": [
    "def process(word):\n",
    "    return ag_preprocesser.stemmer.lemmatize(word)"
   ]
  },
  {
   "cell_type": "code",
   "execution_count": null,
   "metadata": {
    "collapsed": false
   },
   "outputs": [],
   "source": []
  },
  {
   "cell_type": "code",
   "execution_count": 177,
   "metadata": {
    "collapsed": false
   },
   "outputs": [
    {
     "name": "stdout",
     "output_type": "stream",
     "text": [
      "--- Completed 31104 BibleIterMode.VERSEs \n",
      "--- Completed 31104 BibleIterMode.VERSEs \n",
      "--- Completed 31104 BibleIterMode.VERSEs \n",
      "time: 1min 21s\n"
     ]
    }
   ],
   "source": [
    "bible_verse_iter_mode = corpora.BibleSqliteCorpus(db_path,normalizer=ag_preprocesser,iter_mode=BibleIterMode.VERSE)"
   ]
  },
  {
   "cell_type": "code",
   "execution_count": 178,
   "metadata": {
    "collapsed": false
   },
   "outputs": [
    {
     "name": "stdout",
     "output_type": "stream",
     "text": [
      "time: 2.37 ms\n"
     ]
    }
   ],
   "source": [
    "# Set values for various parameters\n",
    "num_features = 300    # Word vector dimensionality\n",
    "min_word_count = 40   # Minimum word count\n",
    "num_workers = 4       # Number of threads to run in parallel\n",
    "context = 10          # Context window size\n",
    "downsampling = 1e-3   # Downsample setting for frequent words\n",
    "\n"
   ]
  },
  {
   "cell_type": "code",
   "execution_count": 179,
   "metadata": {
    "collapsed": false
   },
   "outputs": [
    {
     "name": "stdout",
     "output_type": "stream",
     "text": [
      "time: 92.1 ms\n"
     ]
    }
   ],
   "source": [
    "?Word2Vec"
   ]
  },
  {
   "cell_type": "code",
   "execution_count": 180,
   "metadata": {
    "collapsed": false
   },
   "outputs": [
    {
     "name": "stdout",
     "output_type": "stream",
     "text": [
      "time: 120 ms\n"
     ]
    }
   ],
   "source": [
    "context=5\n",
    "min_word_count=5\n",
    "downsampling=0"
   ]
  },
  {
   "cell_type": "code",
   "execution_count": 181,
   "metadata": {
    "collapsed": false
   },
   "outputs": [
    {
     "name": "stdout",
     "output_type": "stream",
     "text": [
      "Training Word2Vec model...\n",
      "--- Completed 31104 BibleIterMode.VERSEs \n",
      "--- Completed 31104 BibleIterMode.VERSEs \n",
      "time: 57.8 s\n"
     ]
    }
   ],
   "source": [
    "# Initialize and train the model (this will take some time)\n",
    "print \"Training Word2Vec model...\"\n",
    "model = Word2Vec(bible_verse_iter_mode, workers=num_workers, \n",
    "            size=num_features, min_count = min_word_count, \n",
    "            window = context, sample = downsampling, seed=1)"
   ]
  },
  {
   "cell_type": "code",
   "execution_count": 182,
   "metadata": {
    "collapsed": false
   },
   "outputs": [
    {
     "data": {
      "text/plain": [
       "[(u'idol', 0.6522075533866882),\n",
       " (u'profaned', 0.5882677435874939),\n",
       " (u'derision', 0.5729453563690186),\n",
       " (u'molten', 0.5728124380111694),\n",
       " (u'provoke', 0.5676524639129639),\n",
       " (u'serve', 0.5506072640419006),\n",
       " (u'graven', 0.5498453378677368),\n",
       " (u'`Let', 0.544140636920929),\n",
       " (u'joyful', 0.5404459834098816),\n",
       " (u'jealousy', 0.5330997109413147)]"
      ]
     },
     "execution_count": 182,
     "metadata": {},
     "output_type": "execute_result"
    },
    {
     "name": "stdout",
     "output_type": "stream",
     "text": [
      "time: 12.1 ms\n"
     ]
    }
   ],
   "source": [
    "model.most_similar('god')"
   ]
  },
  {
   "cell_type": "code",
   "execution_count": 183,
   "metadata": {
    "collapsed": false
   },
   "outputs": [
    {
     "data": {
      "text/plain": [
       "[(u'faith', 0.769241988658905),\n",
       " (u'mystery', 0.7529106736183167),\n",
       " (u'Father', 0.7328070402145386),\n",
       " (u'gospel', 0.7173313498497009),\n",
       " (u'also', 0.7099764347076416),\n",
       " (u'grace', 0.7050580382347107),\n",
       " (u'may', 0.7037762999534607),\n",
       " (u'circumcision', 0.7007173299789429),\n",
       " (u'revelation', 0.6992039084434509),\n",
       " (u'suffering', 0.6925113201141357)]"
      ]
     },
     "execution_count": 183,
     "metadata": {},
     "output_type": "execute_result"
    },
    {
     "name": "stdout",
     "output_type": "stream",
     "text": [
      "time: 207 ms\n"
     ]
    }
   ],
   "source": [
    "model.most_similar(process('God'))"
   ]
  },
  {
   "cell_type": "code",
   "execution_count": 184,
   "metadata": {
    "collapsed": false
   },
   "outputs": [
    {
     "data": {
      "text/plain": [
       "[(u'Simon', 0.7875022292137146),\n",
       " (u'Lazarus', 0.7857794165611267),\n",
       " (u'John', 0.7599195837974548),\n",
       " (u'James', 0.7563775181770325),\n",
       " (u'Philip', 0.7238887548446655),\n",
       " (u'centurion', 0.7212957739830017),\n",
       " (u'Cornelius', 0.7153438925743103),\n",
       " (u'Cephas', 0.7098357081413269),\n",
       " (u'Judas', 0.7069193124771118),\n",
       " (u'Cyrene', 0.7026147246360779)]"
      ]
     },
     "execution_count": 184,
     "metadata": {},
     "output_type": "execute_result"
    },
    {
     "name": "stdout",
     "output_type": "stream",
     "text": [
      "time: 87 ms\n"
     ]
    }
   ],
   "source": [
    "model.most_similar(process('Mary'))"
   ]
  },
  {
   "cell_type": "code",
   "execution_count": 185,
   "metadata": {
    "collapsed": false
   },
   "outputs": [
    {
     "data": {
      "text/plain": [
       "[(u'knowing', 0.873617947101593),\n",
       " (u'publican', 0.8631646037101746),\n",
       " (u'Peter', 0.8590988516807556),\n",
       " (u'Galilaeans', 0.8433119654655457),\n",
       " (u'answering', 0.8419257402420044),\n",
       " (u'Master', 0.8401651382446289),\n",
       " (u'John', 0.8359725475311279),\n",
       " (u'Barabbas', 0.8353924751281738),\n",
       " (u'Philip', 0.8310055136680603),\n",
       " (u'Simon', 0.8285192251205444)]"
      ]
     },
     "execution_count": 185,
     "metadata": {},
     "output_type": "execute_result"
    },
    {
     "name": "stdout",
     "output_type": "stream",
     "text": [
      "time: 82.7 ms\n"
     ]
    }
   ],
   "source": [
    "model.most_similar(process('Jesus'))"
   ]
  },
  {
   "cell_type": "code",
   "execution_count": 187,
   "metadata": {
    "collapsed": false
   },
   "outputs": [
    {
     "data": {
      "text/plain": [
       "[(u'sinful', 0.5149369239807129),\n",
       " (u'withdrew', 0.5047765970230103),\n",
       " (u'God', 0.46968695521354675),\n",
       " (u'hour', 0.46700260043144226),\n",
       " (u'teaching', 0.45644107460975647),\n",
       " (u'immediately', 0.4493235945701599),\n",
       " (u'Nazarene', 0.44469577074050903),\n",
       " (u'Barabbas', 0.4441291391849518),\n",
       " (u'perceiving', 0.43706417083740234),\n",
       " (u'everywhere', 0.4348283112049103),\n",
       " (u'Nazareth', 0.4287862181663513),\n",
       " (u'gospel', 0.4257271885871887),\n",
       " (u'word', 0.42475029826164246),\n",
       " (u'upon', 0.4238258898258209),\n",
       " (u'Lord', 0.41975855827331543),\n",
       " (u'Capernaum', 0.4139862358570099),\n",
       " (u'Christ', 0.41335874795913696),\n",
       " (u'diadem', 0.4118346571922302),\n",
       " (u'Zeboiim', 0.410378634929657),\n",
       " (u'Andrew', 0.40710189938545227),\n",
       " (u'manifested', 0.40560412406921387),\n",
       " (u'ministration', 0.4044244885444641),\n",
       " (u'Philippi', 0.4043862521648407),\n",
       " (u'Baptist', 0.40156278014183044),\n",
       " (u'foreordained', 0.3963351249694824),\n",
       " (u'`places', 0.39442431926727295),\n",
       " (u'day', 0.3938901722431183),\n",
       " (u'baptizing', 0.39247822761535645),\n",
       " (u'circumcision', 0.3894595205783844),\n",
       " (u'baptism', 0.38942989706993103)]"
      ]
     },
     "execution_count": 187,
     "metadata": {},
     "output_type": "execute_result"
    },
    {
     "name": "stdout",
     "output_type": "stream",
     "text": [
      "time: 176 ms\n"
     ]
    }
   ],
   "source": [
    "model.most_similar(positive=['crucified'],negative=['dead'], topn=30)"
   ]
  },
  {
   "cell_type": "code",
   "execution_count": 188,
   "metadata": {
    "collapsed": false
   },
   "outputs": [
    {
     "data": {
      "text/plain": [
       "[(u'eunuch', 0.6231749057769775),\n",
       " (u'Babylon', 0.5704138875007629),\n",
       " (u'army', 0.5494177937507629),\n",
       " (u'captive', 0.5361217260360718),\n",
       " (u'noble', 0.5318084955215454),\n",
       " (u'Chaldeans', 0.5216084122657776),\n",
       " (u'Riblah', 0.5147387385368347),\n",
       " (u'carried', 0.5135143995285034),\n",
       " (u'Nebuchadrezzar', 0.5079478621482849),\n",
       " (u'Tyre', 0.5046406984329224),\n",
       " (u'captivity', 0.503948986530304),\n",
       " (u'enchanter', 0.495053231716156),\n",
       " (u'Judah', 0.4884354770183563),\n",
       " (u'war', 0.4844403862953186),\n",
       " (u'found', 0.4826550781726837),\n",
       " (u'Ahab', 0.47736504673957825),\n",
       " (u'province', 0.47612956166267395),\n",
       " (u'queen', 0.47476378083229065),\n",
       " (u'gathered', 0.47269436717033386),\n",
       " (u'Jews', 0.47055792808532715),\n",
       " (u'ruler', 0.46977996826171875),\n",
       " (u'accusation', 0.46865618228912354),\n",
       " (u'Nineveh', 0.468523770570755),\n",
       " (u'smote', 0.46500006318092346),\n",
       " (u'join', 0.46498116850852966),\n",
       " (u'Hormah', 0.46471381187438965),\n",
       " (u'Ethiopians', 0.4641486704349518),\n",
       " (u'prince', 0.4615289568901062),\n",
       " (u'Nebuchadnezzar', 0.4587128162384033),\n",
       " (u'craftiness', 0.4579313099384308)]"
      ]
     },
     "execution_count": 188,
     "metadata": {},
     "output_type": "execute_result"
    },
    {
     "name": "stdout",
     "output_type": "stream",
     "text": [
      "time: 84.2 ms\n"
     ]
    }
   ],
   "source": [
    "model.most_similar(positive=['woman', 'king'], negative=['man'],topn=30)"
   ]
  },
  {
   "cell_type": "code",
   "execution_count": 189,
   "metadata": {
    "collapsed": false
   },
   "outputs": [
    {
     "name": "stdout",
     "output_type": "stream",
     "text": [
      "time: 85 ms\n"
     ]
    }
   ],
   "source": [
    "?model.most_similar"
   ]
  },
  {
   "cell_type": "code",
   "execution_count": 190,
   "metadata": {
    "collapsed": false
   },
   "outputs": [
    {
     "data": {
      "text/plain": [
       "'Abraham'"
      ]
     },
     "execution_count": 190,
     "metadata": {},
     "output_type": "execute_result"
    },
    {
     "name": "stdout",
     "output_type": "stream",
     "text": [
      "time: 82.4 ms\n"
     ]
    }
   ],
   "source": [
    "model.doesnt_match(\"Abraham Jesus John\".split())"
   ]
  },
  {
   "cell_type": "code",
   "execution_count": 191,
   "metadata": {
    "collapsed": false
   },
   "outputs": [
    {
     "name": "stdout",
     "output_type": "stream",
     "text": [
      "time: 122 ms\n"
     ]
    }
   ],
   "source": [
    "v= model.vocab.keys()"
   ]
  },
  {
   "cell_type": "code",
   "execution_count": 192,
   "metadata": {
    "collapsed": false
   },
   "outputs": [
    {
     "data": {
      "text/plain": [
       "5196"
      ]
     },
     "execution_count": 192,
     "metadata": {},
     "output_type": "execute_result"
    },
    {
     "name": "stdout",
     "output_type": "stream",
     "text": [
      "time: 151 ms\n"
     ]
    }
   ],
   "source": [
    "len(v)"
   ]
  },
  {
   "cell_type": "code",
   "execution_count": 193,
   "metadata": {
    "collapsed": false
   },
   "outputs": [
    {
     "data": {
      "text/plain": [
       "[u'people']"
      ]
     },
     "execution_count": 193,
     "metadata": {},
     "output_type": "execute_result"
    },
    {
     "name": "stdout",
     "output_type": "stream",
     "text": [
      "time: 123 ms\n"
     ]
    }
   ],
   "source": [
    "[w for w in v if 'people' in w]"
   ]
  },
  {
   "cell_type": "code",
   "execution_count": 194,
   "metadata": {
    "collapsed": false
   },
   "outputs": [
    {
     "data": {
      "text/plain": [
       "[(u'sent', 0.6415464878082275),\n",
       " (u'prophet', 0.6002540588378906),\n",
       " (u'answered', 0.5972616672515869),\n",
       " (u'Daniel', 0.5824201703071594),\n",
       " (u'spake', 0.5782758593559265),\n",
       " (u'Jews', 0.5712401270866394),\n",
       " (u'Haman', 0.5675198435783386),\n",
       " (u'Esther', 0.5670063495635986),\n",
       " (u'eunuch', 0.5656139254570007),\n",
       " (u'showing', 0.5633755922317505),\n",
       " (u'condemned', 0.5597923994064331),\n",
       " (u'openly', 0.5468555092811584),\n",
       " (u'prayer', 0.5420787930488586),\n",
       " (u'found', 0.5418552160263062),\n",
       " (u'ruler', 0.5415225028991699),\n",
       " (u'Belteshazzar', 0.5319534540176392),\n",
       " (u'Mordecai', 0.5310443043708801),\n",
       " (u'Pharisees', 0.5263097286224365),\n",
       " (u'demon', 0.5245246291160583),\n",
       " (u'saying', 0.5153595805168152),\n",
       " (u'heard', 0.5080572962760925),\n",
       " (u'Satan', 0.5069719552993774),\n",
       " (u'also', 0.5013088583946228),\n",
       " (u'hypocrite', 0.5008547306060791),\n",
       " (u'lord', 0.5004507899284363),\n",
       " (u'Pilate', 0.5001140832901001),\n",
       " (u'sorcerer', 0.49982306361198425),\n",
       " (u'preach', 0.49521833658218384),\n",
       " (u'persuade', 0.49339866638183594),\n",
       " (u'decree', 0.49041733145713806)]"
      ]
     },
     "execution_count": 194,
     "metadata": {},
     "output_type": "execute_result"
    },
    {
     "name": "stdout",
     "output_type": "stream",
     "text": [
      "time: 86.8 ms\n"
     ]
    }
   ],
   "source": [
    "model.most_similar(positive=['servant','king'],negative=[], topn=30)"
   ]
  },
  {
   "cell_type": "code",
   "execution_count": 195,
   "metadata": {
    "collapsed": false
   },
   "outputs": [
    {
     "data": {
      "text/plain": [
       "-0.4645863476104557"
      ]
     },
     "execution_count": 195,
     "metadata": {},
     "output_type": "execute_result"
    },
    {
     "name": "stdout",
     "output_type": "stream",
     "text": [
      "time: 80.2 ms\n"
     ]
    }
   ],
   "source": [
    "model.similarity('Jesus','cow')"
   ]
  },
  {
   "cell_type": "code",
   "execution_count": 196,
   "metadata": {
    "collapsed": false
   },
   "outputs": [
    {
     "data": {
      "text/plain": [
       "[(u'angel', 0.5989052653312683),\n",
       " (u'worshipped', 0.5422489047050476),\n",
       " (u'speaking', 0.5366223454475403),\n",
       " (u'standing', 0.5217623114585876),\n",
       " (u'swiftly', 0.5031404495239258),\n",
       " (u'contrary', 0.5027492046356201),\n",
       " (u'declaring', 0.4984506070613861),\n",
       " (u'odor', 0.49032509326934814),\n",
       " (u'Elijah', 0.48931944370269775),\n",
       " (u'appeared', 0.48928216099739075)]"
      ]
     },
     "execution_count": 196,
     "metadata": {},
     "output_type": "execute_result"
    },
    {
     "name": "stdout",
     "output_type": "stream",
     "text": [
      "time: 87.9 ms\n"
     ]
    }
   ],
   "source": [
    "model.most_similar('praying')"
   ]
  },
  {
   "cell_type": "code",
   "execution_count": 200,
   "metadata": {
    "collapsed": false
   },
   "outputs": [
    {
     "data": {
      "text/plain": [
       "'speak'"
      ]
     },
     "execution_count": 200,
     "metadata": {},
     "output_type": "execute_result"
    },
    {
     "name": "stdout",
     "output_type": "stream",
     "text": [
      "time: 2.33 ms\n"
     ]
    }
   ],
   "source": [
    "process('speak')"
   ]
  },
  {
   "cell_type": "code",
   "execution_count": 206,
   "metadata": {
    "collapsed": false
   },
   "outputs": [
    {
     "data": {
      "text/plain": [
       "[(u'Cornelius', 0.810705304145813),\n",
       " (u'Mary', 0.8014918565750122),\n",
       " (u'Philip', 0.7885518670082092),\n",
       " (u'Peter', 0.7860925793647766),\n",
       " (u'Paul', 0.774225115776062),\n",
       " (u'John', 0.7728469967842102),\n",
       " (u'Master', 0.7718327641487122),\n",
       " (u'centurion', 0.7713876962661743),\n",
       " (u'apostle', 0.7698001861572266),\n",
       " (u'Simon', 0.7626448273658752),\n",
       " (u'Nazareth', 0.7578897476196289),\n",
       " (u'parent', 0.7542701959609985),\n",
       " (u'boldly', 0.7539756298065186),\n",
       " (u'judgment-seat', 0.7531784772872925),\n",
       " (u'Martha', 0.7522764205932617),\n",
       " (u'therefore', 0.7469778656959534),\n",
       " (u'Pilate', 0.7396385669708252),\n",
       " (u'Barabbas', 0.7394375205039978),\n",
       " (u'Timothy', 0.738165020942688),\n",
       " (u'amazed', 0.7355075478553772),\n",
       " (u'called', 0.7348423600196838),\n",
       " (u'answering', 0.7348194718360901),\n",
       " (u'marvelled', 0.7264348268508911),\n",
       " (u'Brethren', 0.7227752804756165),\n",
       " (u'Ananias', 0.722525417804718),\n",
       " (u'Woman', 0.72185218334198),\n",
       " (u'Galatia', 0.7202388048171997),\n",
       " (u'Rabbi', 0.7144089937210083),\n",
       " (u'Lazarus', 0.7142627239227295),\n",
       " (u'crucified', 0.7138616442680359)]"
      ]
     },
     "execution_count": 206,
     "metadata": {},
     "output_type": "execute_result"
    },
    {
     "name": "stdout",
     "output_type": "stream",
     "text": [
      "time: 7.46 ms\n"
     ]
    }
   ],
   "source": [
    "model.most_similar(positive=['disciple','mother'],negative=['female'], topn=30)"
   ]
  },
  {
   "cell_type": "code",
   "execution_count": 197,
   "metadata": {
    "collapsed": false
   },
   "outputs": [
    {
     "data": {
      "text/plain": [
       "[(u'stumbling', 0.6919000148773193),\n",
       " (u'harp', 0.6115476489067078),\n",
       " (u'`the', 0.5961785316467285),\n",
       " (u'hypocrite', 0.5656452775001526),\n",
       " (u'stork', 0.5573034286499023),\n",
       " (u'idle', 0.5569040775299072),\n",
       " (u'deceiver', 0.5525301694869995),\n",
       " (u'heaven', 0.5368068814277649),\n",
       " (u'court', 0.5286533832550049),\n",
       " (u'self', 0.528278112411499),\n",
       " (u'door', 0.5247617363929749),\n",
       " (u'graven', 0.5235903263092041),\n",
       " (u'teaching', 0.5225210785865784),\n",
       " (u'round', 0.5186126232147217),\n",
       " (u'sound', 0.5173542499542236),\n",
       " (u'wizard', 0.5169318914413452),\n",
       " (u'ascend', 0.5158020853996277),\n",
       " (u'Behold', 0.513918936252594),\n",
       " (u'endured', 0.5134844183921814),\n",
       " (u'place', 0.5128961205482483),\n",
       " (u'temple', 0.5121800899505615),\n",
       " (u'synagogue', 0.5118653774261475),\n",
       " (u'`of', 0.511333703994751),\n",
       " (u'ministration', 0.5112622380256653),\n",
       " (u'carpenter', 0.504682183265686),\n",
       " (u'scripture', 0.5013973116874695),\n",
       " (u'sounding', 0.50049889087677),\n",
       " (u'earthquake', 0.4904426038265228),\n",
       " (u'Greeks', 0.48979565501213074),\n",
       " (u'church', 0.4896959662437439)]"
      ]
     },
     "execution_count": 197,
     "metadata": {},
     "output_type": "execute_result"
    },
    {
     "name": "stdout",
     "output_type": "stream",
     "text": [
      "time: 82.3 ms\n"
     ]
    }
   ],
   "source": [
    "model.most_similar(positive=['Heaven'],negative=['happy'], topn=30)"
   ]
  },
  {
   "cell_type": "code",
   "execution_count": null,
   "metadata": {
    "collapsed": true
   },
   "outputs": [],
   "source": []
  },
  {
   "cell_type": "code",
   "execution_count": null,
   "metadata": {
    "collapsed": true
   },
   "outputs": [],
   "source": []
  },
  {
   "cell_type": "code",
   "execution_count": null,
   "metadata": {
    "collapsed": true
   },
   "outputs": [],
   "source": []
  },
  {
   "cell_type": "code",
   "execution_count": null,
   "metadata": {
    "collapsed": true
   },
   "outputs": [],
   "source": []
  },
  {
   "cell_type": "code",
   "execution_count": null,
   "metadata": {
    "collapsed": true
   },
   "outputs": [],
   "source": []
  },
  {
   "cell_type": "code",
   "execution_count": null,
   "metadata": {
    "collapsed": true
   },
   "outputs": [],
   "source": []
  },
  {
   "cell_type": "code",
   "execution_count": null,
   "metadata": {
    "collapsed": true
   },
   "outputs": [],
   "source": []
  },
  {
   "cell_type": "code",
   "execution_count": null,
   "metadata": {
    "collapsed": true
   },
   "outputs": [],
   "source": []
  },
  {
   "cell_type": "code",
   "execution_count": null,
   "metadata": {
    "collapsed": true
   },
   "outputs": [],
   "source": []
  },
  {
   "cell_type": "code",
   "execution_count": null,
   "metadata": {
    "collapsed": true
   },
   "outputs": [],
   "source": []
  },
  {
   "cell_type": "code",
   "execution_count": null,
   "metadata": {
    "collapsed": true
   },
   "outputs": [],
   "source": []
  },
  {
   "cell_type": "code",
   "execution_count": null,
   "metadata": {
    "collapsed": true
   },
   "outputs": [],
   "source": []
  }
 ],
 "metadata": {
  "kernelspec": {
   "display_name": "Python 2",
   "language": "python",
   "name": "python2"
  },
  "language_info": {
   "codemirror_mode": {
    "name": "ipython",
    "version": 2
   },
   "file_extension": ".py",
   "mimetype": "text/x-python",
   "name": "python",
   "nbconvert_exporter": "python",
   "pygments_lexer": "ipython2",
   "version": "2.7.9"
  }
 },
 "nbformat": 4,
 "nbformat_minor": 0
}
